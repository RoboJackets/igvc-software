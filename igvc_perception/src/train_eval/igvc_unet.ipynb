{
  "nbformat": 4,
  "nbformat_minor": 0,
  "metadata": {
    "colab": {
      "name": "igvc-unet.ipynb",
      "provenance": []
    },
    "kernelspec": {
      "name": "python3",
      "display_name": "Python 3"
    }
  },
  "cells": [
    {
      "cell_type": "markdown",
      "metadata": {
        "id": "iAQT9ezGUvuz",
        "colab_type": "text"
      },
      "source": [
        "# Please use this notebook to train your model"
      ]
    },
    {
      "cell_type": "code",
      "metadata": {
        "id": "qfg14DJ9Pkw5",
        "colab_type": "code",
        "colab": {}
      },
      "source": [
        "from google.colab import drive\n",
        "drive.mount('/content/drive')"
      ],
      "execution_count": 0,
      "outputs": []
    },
    {
      "cell_type": "markdown",
      "metadata": {
        "id": "q7kQ-r_UU7rA",
        "colab_type": "text"
      },
      "source": [
        "Clone your igvc-software repository"
      ]
    },
    {
      "cell_type": "code",
      "metadata": {
        "id": "HCm8Y4JoP4X9",
        "colab_type": "code",
        "colab": {}
      },
      "source": [
        "%cd /content/drive/My Drive/\n",
        "! git clone https://github.com/RoboJackets/igvc-software.git"
      ],
      "execution_count": 0,
      "outputs": []
    },
    {
      "cell_type": "markdown",
      "metadata": {
        "id": "EdjXKdWnVBEb",
        "colab_type": "text"
      },
      "source": [
        "Switch to your branch"
      ]
    },
    {
      "cell_type": "code",
      "metadata": {
        "id": "49QzKDR7SLiu",
        "colab_type": "code",
        "colab": {}
      },
      "source": [
        "%cd /content/drive/My Drive/igvc-software\n",
        "! git checkout igvc_nn_tb"
      ],
      "execution_count": 0,
      "outputs": []
    },
    {
      "cell_type": "markdown",
      "metadata": {
        "id": "UpMuFTtNVGR5",
        "colab_type": "text"
      },
      "source": [
        "Run your training code"
      ]
    },
    {
      "cell_type": "code",
      "metadata": {
        "id": "vG4r5gWcQO3E",
        "colab_type": "code",
        "colab": {}
      },
      "source": [
        "%cd /content/drive/My Drive/igvc-software/igvc_perception/src/train_eval\n",
        "!python \"/content/drive/My Drive/igvc-software/igvc_perception/src/train_eval/train.py\" --epoch 100 --save_model --save_interval 10"
      ],
      "execution_count": 0,
      "outputs": []
    }
  ]
}